{
 "cells": [
  {
   "cell_type": "code",
   "execution_count": null,
   "id": "f156c9e2",
   "metadata": {},
   "outputs": [],
   "source": [
    "from langchain_core.messages import AIMessage, HumanMessage, SystemMessage\n",
    "from langchain_core.messages.utils import (\n",
    "    trim_messages, \n",
    "    count_tokens_approximately\n",
    ")\n",
    "\n",
    "# Trim history\n",
    "trimmed_messages=trim_messages(\n",
    "    messages=state.messages,\n",
    "    token_counter=count_tokens_approximately,\n",
    "    strategy='last',\n",
    "    max_tokens=12128,\n",
    "    include_system=True,\n",
    "    allow_partial=False,\n",
    "    start_on='human'\n",
    ")"
   ]
  },
  {
   "cell_type": "code",
   "execution_count": null,
   "id": "6e99fa80",
   "metadata": {},
   "outputs": [],
   "source": []
  },
  {
   "cell_type": "code",
   "execution_count": null,
   "id": "7b7c0ff1",
   "metadata": {},
   "outputs": [],
   "source": []
  }
 ],
 "metadata": {
  "kernelspec": {
   "display_name": "myenv",
   "language": "python",
   "name": "python3"
  },
  "language_info": {
   "name": "python",
   "version": "3.12.3"
  }
 },
 "nbformat": 4,
 "nbformat_minor": 5
}
